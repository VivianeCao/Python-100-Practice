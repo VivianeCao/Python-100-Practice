{
 "cells": [
  {
   "cell_type": "code",
   "execution_count": 8,
   "id": "560eecf9",
   "metadata": {
    "scrolled": false
   },
   "outputs": [
    {
     "name": "stdout",
     "output_type": "stream",
     "text": [
      "year:2007\n",
      "month:07\n",
      "day:24\n",
      "It is the 205th day\n"
     ]
    }
   ],
   "source": [
    "#All cases of non-leap years、\n",
    "\n",
    "year = int(input(\"year:\"))\n",
    "month = int(input(\"month:\"))\n",
    "day = int(input(\"day:\"))\n",
    "\n",
    "months = (0,31,59,90,120,151,181,212,243,273,304,334)\n",
    "if 0 < month < 12:\n",
    "    sum = months [month - 1]\n",
    "else:\n",
    "    print(\"date error\") #Determine if it is in range\n",
    "sum += day\n",
    "\n",
    "\n",
    "#The case of leap years\n",
    "leap = 0\n",
    "\n",
    "#Divisible by four but not by one hundred.\n",
    "#Both divisible by four and divisible by one hundred.\n",
    "\n",
    "#Determine if the entered year is a leap year\n",
    "if (year % 400 == 0) or ((year % 4 == 0) and (year % 100 != 0)): \n",
    "    leap = 1\n",
    "\n",
    "#If it is a leap year and the month entered is greater than two, then an extra day will be added.\n",
    "if (leap == 1) and (month > 2):\n",
    "    sum += 1\n",
    "\n",
    "print(\"It is the %dth day\" %sum)\n"
   ]
  }
 ],
 "metadata": {
  "kernelspec": {
   "display_name": "Python 3 (ipykernel)",
   "language": "python",
   "name": "python3"
  },
  "language_info": {
   "codemirror_mode": {
    "name": "ipython",
    "version": 3
   },
   "file_extension": ".py",
   "mimetype": "text/x-python",
   "name": "python",
   "nbconvert_exporter": "python",
   "pygments_lexer": "ipython3",
   "version": "3.9.13"
  }
 },
 "nbformat": 4,
 "nbformat_minor": 5
}
