{
 "cells": [
  {
   "cell_type": "code",
   "execution_count": 3,
   "id": "74eb79ca",
   "metadata": {},
   "outputs": [
    {
     "name": "stdout",
     "output_type": "stream",
     "text": [
      "Please enter the month：9\n",
      "The number of rabbits after 1 months is 1\n",
      "The number of rabbits after 2 months is 1\n",
      "The number of rabbits after 3 months is 2\n",
      "The number of rabbits after 4 months is 3\n",
      "The number of rabbits after 5 months is 5\n",
      "The number of rabbits after 6 months is 8\n",
      "The number of rabbits after 7 months is 13\n",
      "The number of rabbits after 8 months is 21\n",
      "The number of rabbits after 9 months is 34\n"
     ]
    }
   ],
   "source": [
    "month = int(input(\"Please enter the month：\"))\n",
    "\n",
    "def rabbit(n):\n",
    "    if n<=2:\n",
    "        return 1\n",
    "    else:\n",
    "        return(rabbit(n-1) + rabbit(n-2))\n",
    "    \n",
    "    \n",
    "for month in range(1, month+1):\n",
    "    print(\"The number of rabbits after %d months is %d\" % (month,rabbit(month)))"
   ]
  },
  {
   "cell_type": "code",
   "execution_count": 4,
   "id": "357681c0",
   "metadata": {},
   "outputs": [
    {
     "name": "stdout",
     "output_type": "stream",
     "text": [
      "Please enter the month：10\n",
      "The number of rabbits after 1 months is 1\n",
      "The number of rabbits after 2 months is 1\n",
      "The number of rabbits after 3 months is 2\n",
      "The number of rabbits after 4 months is 3\n",
      "The number of rabbits after 5 months is 5\n",
      "The number of rabbits after 6 months is 8\n",
      "The number of rabbits after 7 months is 13\n",
      "The number of rabbits after 8 months is 21\n",
      "The number of rabbits after 9 months is 34\n",
      "The number of rabbits after 10 months is 55\n"
     ]
    }
   ],
   "source": [
    "month = int(input(\"Please enter the month：\"))\n",
    "\n",
    "def rabbit(n):\n",
    "    if n<=2:\n",
    "        return 1\n",
    "    else:\n",
    "        return(rabbit(n-1) + rabbit(n-2))\n",
    "    \n",
    "    \n",
    "for month in range(1, month+1):\n",
    "    print(\"The number of rabbits after %d months is %d\" % (month,rabbit(month)))\n",
    "    "
   ]
  },
  {
   "cell_type": "code",
   "execution_count": null,
   "id": "80ce92d9",
   "metadata": {},
   "outputs": [
    {
     "name": "stdout",
     "output_type": "stream",
     "text": [
      "Please enter the month：100\n",
      "The number of rabbits after 1 months is 1\n",
      "The number of rabbits after 2 months is 1\n",
      "The number of rabbits after 3 months is 2\n",
      "The number of rabbits after 4 months is 3\n",
      "The number of rabbits after 5 months is 5\n",
      "The number of rabbits after 6 months is 8\n",
      "The number of rabbits after 7 months is 13\n",
      "The number of rabbits after 8 months is 21\n",
      "The number of rabbits after 9 months is 34\n",
      "The number of rabbits after 10 months is 55\n",
      "The number of rabbits after 11 months is 89\n",
      "The number of rabbits after 12 months is 144\n",
      "The number of rabbits after 13 months is 233\n",
      "The number of rabbits after 14 months is 377\n",
      "The number of rabbits after 15 months is 610\n",
      "The number of rabbits after 16 months is 987\n",
      "The number of rabbits after 17 months is 1597\n",
      "The number of rabbits after 18 months is 2584\n",
      "The number of rabbits after 19 months is 4181\n",
      "The number of rabbits after 20 months is 6765\n",
      "The number of rabbits after 21 months is 10946\n",
      "The number of rabbits after 22 months is 17711\n",
      "The number of rabbits after 23 months is 28657\n",
      "The number of rabbits after 24 months is 46368\n",
      "The number of rabbits after 25 months is 75025\n",
      "The number of rabbits after 26 months is 121393\n",
      "The number of rabbits after 27 months is 196418\n",
      "The number of rabbits after 28 months is 317811\n",
      "The number of rabbits after 29 months is 514229\n",
      "The number of rabbits after 30 months is 832040\n",
      "The number of rabbits after 31 months is 1346269\n",
      "The number of rabbits after 32 months is 2178309\n",
      "The number of rabbits after 33 months is 3524578\n",
      "The number of rabbits after 34 months is 5702887\n",
      "The number of rabbits after 35 months is 9227465\n",
      "The number of rabbits after 36 months is 14930352\n"
     ]
    }
   ],
   "source": [
    "month = int(input(\"Please enter the month：\"))\n",
    "\n",
    "def rabbit(n):\n",
    "    if n<=2:\n",
    "        return 1\n",
    "    else:\n",
    "        return(rabbit(n-1) + rabbit(n-2))\n",
    "    \n",
    "    \n",
    "for month in range(1, month+1):\n",
    "    print(\"The number of rabbits after %d months is %d\" % (month,rabbit(month)))\n"
   ]
  },
  {
   "cell_type": "code",
   "execution_count": null,
   "id": "7a07a722",
   "metadata": {},
   "outputs": [],
   "source": []
  }
 ],
 "metadata": {
  "kernelspec": {
   "display_name": "Python 3 (ipykernel)",
   "language": "python",
   "name": "python3"
  },
  "language_info": {
   "codemirror_mode": {
    "name": "ipython",
    "version": 3
   },
   "file_extension": ".py",
   "mimetype": "text/x-python",
   "name": "python",
   "nbconvert_exporter": "python",
   "pygments_lexer": "ipython3",
   "version": "3.9.13"
  }
 },
 "nbformat": 4,
 "nbformat_minor": 5
}
