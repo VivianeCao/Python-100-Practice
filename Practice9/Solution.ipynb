{
 "cells": [
  {
   "cell_type": "code",
   "execution_count": 4,
   "id": "3187084e",
   "metadata": {
    "scrolled": true
   },
   "outputs": [
    {
     "name": "stdout",
     "output_type": "stream",
     "text": [
      "25-02-2023 18:34:00\n",
      "25-02-2023 18:34:01\n",
      "25-02-2023 18:34:02\n",
      "25-02-2023 18:34:03\n",
      "25-02-2023 18:34:04\n",
      "25-02-2023 18:34:05\n",
      "25-02-2023 18:34:06\n",
      "25-02-2023 18:34:07\n",
      "25-02-2023 18:34:08\n",
      "25-02-2023 18:34:09\n"
     ]
    }
   ],
   "source": [
    "import time\n",
    "\n",
    "\n",
    "for i in range(10):\n",
    "    print(time.strftime('%d-%m-%Y %H:%M:%S',time.localtime())) #Formatting the current time\n",
    "    time.sleep(1)"
   ]
  },
  {
   "cell_type": "code",
   "execution_count": null,
   "id": "eb05049c",
   "metadata": {},
   "outputs": [],
   "source": []
  }
 ],
 "metadata": {
  "kernelspec": {
   "display_name": "Python 3 (ipykernel)",
   "language": "python",
   "name": "python3"
  },
  "language_info": {
   "codemirror_mode": {
    "name": "ipython",
    "version": 3
   },
   "file_extension": ".py",
   "mimetype": "text/x-python",
   "name": "python",
   "nbconvert_exporter": "python",
   "pygments_lexer": "ipython3",
   "version": "3.9.13"
  }
 },
 "nbformat": 4,
 "nbformat_minor": 5
}
