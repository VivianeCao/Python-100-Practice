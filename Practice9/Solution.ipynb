{
 "cells": [
  {
   "cell_type": "code",
   "execution_count": 3,
   "id": "fff0f3fb",
   "metadata": {},
   "outputs": [
    {
     "name": "stdout",
     "output_type": "stream",
     "text": [
      "1\n",
      "2\n",
      "3\n",
      "4\n"
     ]
    }
   ],
   "source": [
    "import time\n",
    "\n",
    "for i in range(1,5):\n",
    "    print(i)\n",
    "    time.sleep(1) #pause for a sec"
   ]
  },
  {
   "cell_type": "code",
   "execution_count": 2,
   "id": "16b4cff2",
   "metadata": {},
   "outputs": [
    {
     "name": "stdout",
     "output_type": "stream",
     "text": [
      "1 a\n",
      "2 b\n"
     ]
    }
   ],
   "source": [
    "import time\n",
    " \n",
    "myD = {1: 'a', 2: 'b'}\n",
    "for key, value in dict.items(myD):\n",
    "    print (key, value)\n",
    "    time.sleep(1) #pause for a sec"
   ]
  },
  {
   "cell_type": "code",
   "execution_count": null,
   "id": "2ae44603",
   "metadata": {},
   "outputs": [],
   "source": []
  }
 ],
 "metadata": {
  "kernelspec": {
   "display_name": "Python 3 (ipykernel)",
   "language": "python",
   "name": "python3"
  },
  "language_info": {
   "codemirror_mode": {
    "name": "ipython",
    "version": 3
   },
   "file_extension": ".py",
   "mimetype": "text/x-python",
   "name": "python",
   "nbconvert_exporter": "python",
   "pygments_lexer": "ipython3",
   "version": "3.9.13"
  }
 },
 "nbformat": 4,
 "nbformat_minor": 5
}
