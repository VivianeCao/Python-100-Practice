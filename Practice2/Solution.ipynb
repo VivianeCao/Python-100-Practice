{
 "cells": [
  {
   "cell_type": "code",
   "execution_count": 10,
   "id": "380a53eb",
   "metadata": {},
   "outputs": [
    {
     "name": "stdout",
     "output_type": "stream",
     "text": [
      "Net profit:100000\n",
      "total bonus: 10000.0\n"
     ]
    }
   ],
   "source": [
    "i = int (input(\"Net profit:\"))\n",
    "\n",
    "#threshold values of profit\n",
    "arr = [1000000, 600000, 400000, 200000, 100000, 0]\n",
    "\n",
    "#threshold values of bonues\n",
    "rat = [0.01, 0.015, 0.03, 0.05, 0.075, 0.1]\n",
    "\n",
    "#init the percentage\n",
    "r = 0\n",
    "\n",
    "#net profit is np\n",
    "\n",
    "for idx in range (0,6):\n",
    "    if i > arr[idx]:\n",
    "        np = (i-arr[idx])*rat[idx]\n",
    "        r = r + np\n",
    "        i = arr[idx] #init i's value\n",
    "print('total bonus:', r)\n",
    "\n",
    "\n",
    "\n",
    "\n"
   ]
  }
 ],
 "metadata": {
  "kernelspec": {
   "display_name": "Python 3 (ipykernel)",
   "language": "python",
   "name": "python3"
  },
  "language_info": {
   "codemirror_mode": {
    "name": "ipython",
    "version": 3
   },
   "file_extension": ".py",
   "mimetype": "text/x-python",
   "name": "python",
   "nbconvert_exporter": "python",
   "pygments_lexer": "ipython3",
   "version": "3.9.13"
  }
 },
 "nbformat": 4,
 "nbformat_minor": 5
}
