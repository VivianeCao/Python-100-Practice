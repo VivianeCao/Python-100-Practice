{
 "cells": [
  {
   "cell_type": "code",
   "execution_count": 3,
   "id": "0f4505e2",
   "metadata": {},
   "outputs": [
    {
     "name": "stdout",
     "output_type": "stream",
     "text": [
      "Please entre the score: 95\n",
      "95 is A\n"
     ]
    }
   ],
   "source": [
    "score = int(input(\"Please entre the score: \"))\n",
    "\n",
    "if score >= 90:\n",
    "    grade = 'A'\n",
    "\n",
    "elif score >= 60:\n",
    "    grade = 'B'\n",
    "\n",
    "else:\n",
    "    grade = 'C'\n",
    "    \n",
    "print(\"%d is %s\" % (score, grade))"
   ]
  }
 ],
 "metadata": {
  "kernelspec": {
   "display_name": "Python 3 (ipykernel)",
   "language": "python",
   "name": "python3"
  },
  "language_info": {
   "codemirror_mode": {
    "name": "ipython",
    "version": 3
   },
   "file_extension": ".py",
   "mimetype": "text/x-python",
   "name": "python",
   "nbconvert_exporter": "python",
   "pygments_lexer": "ipython3",
   "version": "3.9.13"
  }
 },
 "nbformat": 4,
 "nbformat_minor": 5
}
