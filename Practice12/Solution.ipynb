{
 "cells": [
  {
   "cell_type": "code",
   "execution_count": 13,
   "id": "6596ebaf",
   "metadata": {},
   "outputs": [
    {
     "name": "stdout",
     "output_type": "stream",
     "text": [
      "[101, 103, 107, 109, 113, 127, 131, 137, 139, 149, 151, 157, 163, 167, 173, 179, 181, 191, 193, 197, 199]\n",
      "The total number of: 21 \n"
     ]
    }
   ],
   "source": [
    "l = []\n",
    "\n",
    "for i in range (101,200):\n",
    "    for j in range (2,i-1):\n",
    "        if i % j == 0:\n",
    "            break\n",
    "    else:\n",
    "            l.append(i)\n",
    "        \n",
    "print(l)\n",
    "print(\"The total number of: %d \" % len(l))"
   ]
  },
  {
   "cell_type": "code",
   "execution_count": 14,
   "id": "c5d95cb4",
   "metadata": {},
   "outputs": [
    {
     "name": "stdout",
     "output_type": "stream",
     "text": [
      "101 \n",
      "103 \n",
      "107 \n",
      "109 \n",
      "113 \n",
      "127 \n",
      "131 \n",
      "137 \n",
      "139 \n",
      "149 \n",
      "\n",
      "151 \n",
      "157 \n",
      "163 \n",
      "167 \n",
      "173 \n",
      "179 \n",
      "181 \n",
      "191 \n",
      "193 \n",
      "197 \n",
      "\n",
      "199 \n",
      "The total is 21\n"
     ]
    }
   ],
   "source": [
    "h = 0\n",
    "leap = 1\n",
    "from math import sqrt\n",
    "from sys import stdout\n",
    "for m in range(101,201):\n",
    "    k = int(sqrt(m + 1))\n",
    "    for i in range(2,k + 1):\n",
    "        if m % i == 0:\n",
    "            leap = 0\n",
    "            break\n",
    "    if leap == 1:\n",
    "        print ('%-4d' % m)\n",
    "        h += 1\n",
    "        if h % 10 == 0:\n",
    "            print ('')\n",
    "    leap = 1\n",
    "print ('The total is %d' % h)"
   ]
  },
  {
   "cell_type": "code",
   "execution_count": null,
   "id": "86168135",
   "metadata": {},
   "outputs": [],
   "source": []
  }
 ],
 "metadata": {
  "kernelspec": {
   "display_name": "Python 3 (ipykernel)",
   "language": "python",
   "name": "python3"
  },
  "language_info": {
   "codemirror_mode": {
    "name": "ipython",
    "version": 3
   },
   "file_extension": ".py",
   "mimetype": "text/x-python",
   "name": "python",
   "nbconvert_exporter": "python",
   "pygments_lexer": "ipython3",
   "version": "3.9.13"
  }
 },
 "nbformat": 4,
 "nbformat_minor": 5
}
