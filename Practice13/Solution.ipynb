{
 "cells": [
  {
   "cell_type": "code",
   "execution_count": 1,
   "id": "6891f0e3",
   "metadata": {},
   "outputs": [
    {
     "name": "stdout",
     "output_type": "stream",
     "text": [
      "153\n",
      "370\n",
      "371\n",
      "407\n"
     ]
    }
   ],
   "source": [
    "\n",
    "for n in range(100,1000):\n",
    "    i = int(n/100)  #Take the hundreds digit\n",
    "    j = int(n/10)%10  #Take the tenth digit\n",
    "    k = n%10  #Take single digits\n",
    "    if n == i**3 + k**3 + j**3:\n",
    "        print(n)\n",
    "    "
   ]
  },
  {
   "cell_type": "code",
   "execution_count": 2,
   "id": "6c227c28",
   "metadata": {},
   "outputs": [
    {
     "name": "stdout",
     "output_type": "stream",
     "text": [
      "153\n",
      "370\n",
      "371\n",
      "407\n"
     ]
    }
   ],
   "source": [
    "\n",
    "for n in range(100,1000):\n",
    "    i = n // 100\n",
    "    j = n // 10 % 10\n",
    "    k = n % 10\n",
    "    if n == i*i*i + j*j*j + k*k*k: \n",
    "        print(n)\n"
   ]
  },
  {
   "cell_type": "code",
   "execution_count": null,
   "id": "70dc9fa0",
   "metadata": {},
   "outputs": [],
   "source": []
  }
 ],
 "metadata": {
  "kernelspec": {
   "display_name": "Python 3 (ipykernel)",
   "language": "python",
   "name": "python3"
  },
  "language_info": {
   "codemirror_mode": {
    "name": "ipython",
    "version": 3
   },
   "file_extension": ".py",
   "mimetype": "text/x-python",
   "name": "python",
   "nbconvert_exporter": "python",
   "pygments_lexer": "ipython3",
   "version": "3.9.13"
  }
 },
 "nbformat": 4,
 "nbformat_minor": 5
}
