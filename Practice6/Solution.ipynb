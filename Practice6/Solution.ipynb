{
 "cells": [
  {
   "cell_type": "code",
   "execution_count": 1,
   "id": "0c2033d1",
   "metadata": {},
   "outputs": [
    {
     "name": "stdout",
     "output_type": "stream",
     "text": [
      "55\n"
     ]
    }
   ],
   "source": [
    "def fib(n):\n",
    "    if n == 1 or n == 2:\n",
    "        return (1)\n",
    "    return fib(n - 1) + fib(n - 2)\n",
    "print (fib(10))"
   ]
  },
  {
   "cell_type": "code",
   "execution_count": 2,
   "id": "8097314e",
   "metadata": {},
   "outputs": [
    {
     "name": "stdout",
     "output_type": "stream",
     "text": [
      "5\n"
     ]
    }
   ],
   "source": [
    "def fib(n):\n",
    "    if n == 1 or n == 2:\n",
    "        return (1)\n",
    "    return fib(n - 1) + fib(n - 2)\n",
    "print (fib(5))"
   ]
  },
  {
   "cell_type": "code",
   "execution_count": 3,
   "id": "c387df07",
   "metadata": {},
   "outputs": [
    {
     "name": "stdout",
     "output_type": "stream",
     "text": [
      "2\n"
     ]
    }
   ],
   "source": [
    "def fib(n):\n",
    "    if n == 1 or n == 2:\n",
    "        return (1)\n",
    "    return fib(n - 1) + fib(n - 2)\n",
    "print (fib(3))"
   ]
  },
  {
   "cell_type": "code",
   "execution_count": null,
   "id": "f039d562",
   "metadata": {},
   "outputs": [],
   "source": []
  }
 ],
 "metadata": {
  "kernelspec": {
   "display_name": "Python 3 (ipykernel)",
   "language": "python",
   "name": "python3"
  },
  "language_info": {
   "codemirror_mode": {
    "name": "ipython",
    "version": 3
   },
   "file_extension": ".py",
   "mimetype": "text/x-python",
   "name": "python",
   "nbconvert_exporter": "python",
   "pygments_lexer": "ipython3",
   "version": "3.9.13"
  }
 },
 "nbformat": 4,
 "nbformat_minor": 5
}
